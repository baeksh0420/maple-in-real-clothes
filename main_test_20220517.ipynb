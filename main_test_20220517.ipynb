{
 "cells": [
  {
   "cell_type": "markdown",
   "metadata": {
    "id": "sMdVbLoZzl0N"
   },
   "source": [
    "## main\n",
    "\n",
    "할거\n",
    "\n",
    "- [x] segmentation load, write 빼기\n",
    "- [x] pixelate argument 통일\n",
    "- [x] 공통 함수?? - all -> fit \n",
    "- [x] ssh 권한 \n",
    "\n",
    "이번주 \n",
    "- [x] image 이름 변경\n",
    "- [x] image size 맞추기 - 256,192,3\n",
    "- [x] test_pairs.txt 생성 함수 만들기 -> 한 캐릭터에 여러옷\n",
    "- [x] cp-vton 돌아가게하기\n",
    "- [x] cp-vton 모듈화\n",
    "\n",
    "\n",
    "다음주\n",
    "- [ ] segmentation 개선 - pixelate의 outline 안 밖을 0,255로 하면 되는 거 아닐까?\n",
    "- [ ] preprocess 정책 생각하기\n",
    "\n",
    "함께 to do\n",
    "- [ ] 공통 함수?? - plot??-- 형식 맞춰서 작성 필요\n",
    "- [ ] git-clone - https://ndb796.tistory.com/562\n",
    "\n",
    "나중에\n",
    "- [ ] requirements \n",
    "\n"
   ]
  },
  {
   "cell_type": "markdown",
   "metadata": {
    "id": "l8xbLPmjzl0T"
   },
   "source": [
    "있어야할 것들\n",
    "- method들\n",
    "- plot\n",
    "- all\n",
    "- "
   ]
  },
  {
   "cell_type": "markdown",
   "metadata": {
    "id": "UmnA__epzl0U"
   },
   "source": [
    "### [temp] cpvton test.py\n",
    "- test_pairs.txt\n",
    "    - image : _0.jpg    ex) 000001_0.jpg\n",
    "    - cloth : _1.jpg    ex) 004325_1.jpg\n",
    "- filename_end rule\n",
    "    - ` _0.jpg ` : **image, image-parse, pose**  \n",
    "    - ` _1.jpg ` : **cloth, cloth-mask, warp-cloth, warp-mask**\n",
    "    "
   ]
  },
  {
   "cell_type": "code",
   "execution_count": 1,
   "metadata": {
    "colab": {
     "base_uri": "https://localhost:8080/"
    },
    "executionInfo": {
     "elapsed": 18572,
     "status": "ok",
     "timestamp": 1652607618077,
     "user": {
      "displayName": "코쿤팬",
      "userId": "14151456840722636307"
     },
     "user_tz": -540
    },
    "id": "-wXj7UVa1TXT",
    "outputId": "31cc33f4-ca7c-4a00-bf50-f66bdf61e402"
   },
   "outputs": [
    {
     "name": "stdout",
     "output_type": "stream",
     "text": [
      "Mounted at /content/drive\n"
     ]
    }
   ],
   "source": [
    "from google.colab import drive\n",
    "drive.mount('/content/drive')"
   ]
  },
  {
   "cell_type": "markdown",
   "metadata": {
    "id": "zFByMrFqzl0V"
   },
   "source": [
    "### [temp] cpvton test.py - main"
   ]
  },
  {
   "cell_type": "code",
   "execution_count": 2,
   "metadata": {
    "colab": {
     "base_uri": "https://localhost:8080/"
    },
    "executionInfo": {
     "elapsed": 4311,
     "status": "ok",
     "timestamp": 1652607622386,
     "user": {
      "displayName": "코쿤팬",
      "userId": "14151456840722636307"
     },
     "user_tz": -540
    },
    "id": "Cqjw_CL4zxP_",
    "outputId": "f02116f8-d236-4f75-e3c5-20e216e13090"
   },
   "outputs": [
    {
     "name": "stdout",
     "output_type": "stream",
     "text": [
      "Collecting tensorboardX\n",
      "  Downloading tensorboardX-2.5-py2.py3-none-any.whl (125 kB)\n",
      "\u001b[K     |████████████████████████████████| 125 kB 12.1 MB/s eta 0:00:01\n",
      "\u001b[?25hRequirement already satisfied: protobuf>=3.8.0 in /usr/local/lib/python3.7/dist-packages (from tensorboardX) (3.17.3)\n",
      "Requirement already satisfied: numpy in /usr/local/lib/python3.7/dist-packages (from tensorboardX) (1.21.6)\n",
      "Requirement already satisfied: six in /usr/local/lib/python3.7/dist-packages (from tensorboardX) (1.15.0)\n",
      "Installing collected packages: tensorboardX\n",
      "Successfully installed tensorboardX-2.5\n"
     ]
    }
   ],
   "source": [
    "!pip install tensorboardX"
   ]
  },
  {
   "cell_type": "code",
   "execution_count": 3,
   "metadata": {
    "colab": {
     "base_uri": "https://localhost:8080/"
    },
    "executionInfo": {
     "elapsed": 9,
     "status": "ok",
     "timestamp": 1652607622386,
     "user": {
      "displayName": "코쿤팬",
      "userId": "14151456840722636307"
     },
     "user_tz": -540
    },
    "id": "8LgGGM_Jzxue",
    "outputId": "d10d8cd5-cfff-4821-e64b-c0f368d0dcd7"
   },
   "outputs": [
    {
     "name": "stdout",
     "output_type": "stream",
     "text": [
      "/content/drive/MyDrive/gan/PJ_01\n"
     ]
    }
   ],
   "source": [
    "%cd drive/MyDrive/gan/PJ_01"
   ]
  },
  {
   "cell_type": "code",
   "execution_count": 4,
   "metadata": {
    "colab": {
     "base_uri": "https://localhost:8080/"
    },
    "executionInfo": {
     "elapsed": 7,
     "status": "ok",
     "timestamp": 1652607622386,
     "user": {
      "displayName": "코쿤팬",
      "userId": "14151456840722636307"
     },
     "user_tz": -540
    },
    "id": "dk85Zp-Xz0nM",
    "outputId": "4befbae1-7fd0-4a56-daf0-0b3b1fdba5ff"
   },
   "outputs": [
    {
     "name": "stdout",
     "output_type": "stream",
     "text": [
      "/content/drive/MyDrive/gan/PJ_01\n"
     ]
    }
   ],
   "source": [
    "!pwd # 폴더 이동 잘 됐는지 확인용"
   ]
  },
  {
   "cell_type": "markdown",
   "metadata": {
    "id": "AG-MikcZzl0Z"
   },
   "source": [
    "# [main] RUN"
   ]
  },
  {
   "cell_type": "code",
   "execution_count": null,
   "metadata": {
    "id": "k-wByElkzl0a"
   },
   "outputs": [],
   "source": [
    "%run model.py"
   ]
  },
  {
   "cell_type": "code",
   "execution_count": null,
   "metadata": {
    "id": "0adXau8mzl0a"
   },
   "outputs": [],
   "source": []
  }
 ],
 "metadata": {
  "accelerator": "GPU",
  "colab": {
   "collapsed_sections": [],
   "name": "main_test_20220515.ipynb",
   "provenance": []
  },
  "kernelspec": {
   "display_name": "Python 3",
   "language": "python",
   "name": "python3"
  },
  "language_info": {
   "codemirror_mode": {
    "name": "ipython",
    "version": 3
   },
   "file_extension": ".py",
   "mimetype": "text/x-python",
   "name": "python",
   "nbconvert_exporter": "python",
   "pygments_lexer": "ipython3",
   "version": "3.8.3"
  }
 },
 "nbformat": 4,
 "nbformat_minor": 5
}
