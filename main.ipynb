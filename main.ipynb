{
 "cells": [
  {
   "cell_type": "markdown",
   "metadata": {},
   "source": [
    "## main\n",
    "\n",
    "할거\n",
    "\n",
    "- [x] segmentation load, write 빼기\n",
    "- [x] pixelate argument 통일\n",
    "- [x] 공통 함수?? - all -> fit \n",
    "- [x] ssh 권한 \n",
    "\n",
    "이번주 \n",
    "- [x] image 이름 변경\n",
    "- [x] image size 맞추기 - 256,192,3\n",
    "- [x] test_pairs.txt 생성 함수 만들기 -> 한 캐릭터에 여러옷\n",
    "- [x] cp-vton 돌아가게하기\n",
    "- [x] cp-vton 모듈화\n",
    "\n",
    "\n",
    "다음주\n",
    "- [ ] segmentation 개선 - pixelate의 outline 안 밖을 0,255로 하면 되는 거 아닐까?\n",
    "- [ ] preprocess 정책 생각하기\n",
    "\n",
    "함께 to do\n",
    "- [ ] 공통 함수?? - plot??-- 형식 맞춰서 작성 필요\n",
    "- [ ] git-clone - https://ndb796.tistory.com/562\n",
    "\n",
    "나중에\n",
    "- [ ] requirements \n"
   ]
  },
  {
   "cell_type": "markdown",
   "metadata": {},
   "source": [
    "있어야할 것들\n",
    "- method들\n",
    "- plot\n",
    "- all\n",
    "- "
   ]
  },
  {
   "cell_type": "markdown",
   "metadata": {},
   "source": [
    "### [temp] cpvton test.py - image size\n",
    "- cloth-raw x\n",
    "- cloth 도? <- pixelate 결과 \n",
    "- cloth-mask 도? <- segmentation 결과\n",
    "\n",
    "- 어쨋든 캐릭터의 크기는 동일하니까 옷 사이즈를 맞춰주는 것이 필요함\n",
    "- 이후에 옷부분만 사진에 맞게 resize하는 preprocessing은 필요할듯 - 사진에서 옷이 차지하는 크기가 유저가 어떻게 찍느냐에 따라 각각 상이할 것이라서 -> 이걸 전처리해주는데, 특정 임계를 초과하면 alert떠서 '옷을 더 크게 찍어서 업로드 해주세요.' 이런 문구로 보완하는 것도 하나의 방법일듯\n",
    "- 일단 자르기 말고 확대/축소하는 것으로"
   ]
  },
  {
   "cell_type": "markdown",
   "metadata": {},
   "source": [
    "- `cloth` : 256 192 3\n",
    "- `cloth-mask` : 256 192 3"
   ]
  },
  {
   "cell_type": "markdown",
   "metadata": {},
   "source": [
    "### [temp] cpvton test.py\n",
    "- test_pairs.txt\n",
    "    - image : _0.jpg    ex) 000001_0.jpg\n",
    "    - cloth : _1.jpg    ex) 004325_1.jpg\n",
    "- filename_end rule\n",
    "    - ` _0.jpg ` : **image, image-parse, pose**  \n",
    "    - ` _1.jpg ` : **cloth, cloth-mask, warp-cloth, warp-mask**\n",
    "    "
   ]
  },
  {
   "cell_type": "code",
   "execution_count": 2,
   "metadata": {},
   "outputs": [
    {
     "ename": "NameError",
     "evalue": "name 'mode' is not defined",
     "output_type": "error",
     "traceback": [
      "\u001b[1;31m---------------------------------------------------------------------------\u001b[0m",
      "\u001b[1;31mNameError\u001b[0m                                 Traceback (most recent call last)",
      "\u001b[1;32m<ipython-input-2-76146eabdbe2>\u001b[0m in \u001b[0;36m<module>\u001b[1;34m\u001b[0m\n\u001b[0;32m      1\u001b[0m \u001b[1;32mfrom\u001b[0m \u001b[0mstep\u001b[0m\u001b[1;33m.\u001b[0m\u001b[0mtryon\u001b[0m \u001b[1;32mimport\u001b[0m \u001b[1;33m*\u001b[0m\u001b[1;33m\u001b[0m\u001b[1;33m\u001b[0m\u001b[0m\n\u001b[0;32m      2\u001b[0m \u001b[0mmode\u001b[0m \u001b[1;33m=\u001b[0m \u001b[1;34m\"live\"\u001b[0m\u001b[1;33m\u001b[0m\u001b[1;33m\u001b[0m\u001b[0m\n\u001b[1;32m----> 3\u001b[1;33m Tryon.fit(name=\"gmm\"\n\u001b[0m\u001b[0;32m      4\u001b[0m \u001b[1;33m,\u001b[0m\u001b[0mstage\u001b[0m \u001b[1;33m=\u001b[0m \u001b[1;34m\"GMM\"\u001b[0m\u001b[1;33m\u001b[0m\u001b[1;33m\u001b[0m\u001b[0m\n\u001b[0;32m      5\u001b[0m \u001b[1;33m,\u001b[0m\u001b[0mworkers\u001b[0m \u001b[1;33m=\u001b[0m \u001b[1;36m4\u001b[0m\u001b[1;33m\u001b[0m\u001b[1;33m\u001b[0m\u001b[0m\n",
      "\u001b[1;32m~\\Documents\\GitHub\\PJ_01\\step\\tryon.py\u001b[0m in \u001b[0;36mfit\u001b[1;34m(name, stage, workers, datamode, data_list, checkpoint, print_format)\u001b[0m\n\u001b[0;32m     20\u001b[0m         \u001b[0mos\u001b[0m\u001b[1;33m.\u001b[0m\u001b[0msystem\u001b[0m\u001b[1;33m(\u001b[0m\u001b[1;34m\"! python test.py --name gmm --stage GMM --workers 1 --datamode test --data_list test_pairs.txt --checkpoint checkpoints/gmm_final.pth\"\u001b[0m\u001b[1;33m)\u001b[0m\u001b[1;33m\u001b[0m\u001b[1;33m\u001b[0m\u001b[0m\n\u001b[0;32m     21\u001b[0m \u001b[1;33m\u001b[0m\u001b[0m\n\u001b[1;32m---> 22\u001b[1;33m         \u001b[1;32mif\u001b[0m \u001b[0mmode\u001b[0m \u001b[1;33m==\u001b[0m \u001b[1;34m\"test\"\u001b[0m\u001b[1;33m:\u001b[0m\u001b[1;33m\u001b[0m\u001b[1;33m\u001b[0m\u001b[0m\n\u001b[0m\u001b[0;32m     23\u001b[0m             \u001b[0mprint\u001b[0m\u001b[1;33m(\u001b[0m\u001b[0mprint_format\u001b[0m\u001b[1;33m+\u001b[0m\u001b[1;34m\"test mode, no write\"\u001b[0m\u001b[1;33m)\u001b[0m\u001b[1;33m\u001b[0m\u001b[1;33m\u001b[0m\u001b[0m\n\u001b[0;32m     24\u001b[0m \u001b[1;33m\u001b[0m\u001b[0m\n",
      "\u001b[1;31mNameError\u001b[0m: name 'mode' is not defined"
     ]
    }
   ],
   "source": [
    "from step.tryon import *\n",
    "mode = \"live\"\n",
    "Tryon.fit(name=\"gmm\"\n",
    ",stage = \"GMM\" \n",
    ",workers = 4 \n",
    ",datamode = \"test\" \n",
    ",data_list = \"test_pairs.txt\" \n",
    ",checkpoint = \"checkpoints/gmm_final.pth\"\n",
    ",print_format = \"      |     \")"
   ]
  },
  {
   "cell_type": "code",
   "execution_count": 5,
   "metadata": {},
   "outputs": [
    {
     "ename": "TypeError",
     "evalue": "main() takes 0 positional arguments but 1 was given",
     "output_type": "error",
     "traceback": [
      "\u001b[1;31m---------------------------------------------------------------------------\u001b[0m",
      "\u001b[1;31mTypeError\u001b[0m                                 Traceback (most recent call last)",
      "\u001b[1;32m<ipython-input-5-6c26ae1ce015>\u001b[0m in \u001b[0;36m<module>\u001b[1;34m\u001b[0m\n\u001b[0;32m      1\u001b[0m \u001b[1;32mfrom\u001b[0m \u001b[0mstep\u001b[0m\u001b[1;33m.\u001b[0m\u001b[0mtest\u001b[0m \u001b[1;32mimport\u001b[0m \u001b[1;33m*\u001b[0m\u001b[1;33m\u001b[0m\u001b[1;33m\u001b[0m\u001b[0m\n\u001b[1;32m----> 2\u001b[1;33m \u001b[0mmain\u001b[0m\u001b[1;33m(\u001b[0m\u001b[1;34m\"name --gmm\"\u001b[0m\u001b[1;33m)\u001b[0m\u001b[1;33m\u001b[0m\u001b[1;33m\u001b[0m\u001b[0m\n\u001b[0m",
      "\u001b[1;31mTypeError\u001b[0m: main() takes 0 positional arguments but 1 was given"
     ]
    }
   ],
   "source": [
    "from step.test import *\n",
    "main()"
   ]
  },
  {
   "cell_type": "markdown",
   "metadata": {},
   "source": [
    "### [temp] cpvton test.py - main\n",
    "! python test.py \n",
    "--name gmm \n",
    "--stage GMM \n",
    "--workers 4 \n",
    "--datamode test \n",
    "--data_list test_pairs.txt \n",
    "--checkpoint checkpoints/gmm_final.pth\n",
    "\n",
    "! python test.py \n",
    "--name tom \n",
    "--stage TOM \n",
    "--workers 4 \n",
    "--datamode test \n",
    "--data_list test_pairs.txt \n",
    "--checkpoint checkpoints/tom_final.pth"
   ]
  },
  {
   "cell_type": "code",
   "execution_count": 1,
   "metadata": {},
   "outputs": [
    {
     "name": "stdout",
     "output_type": "stream",
     "text": [
      "Namespace(batch_size=4, checkpoint='checkpoints/gmm_final.pth', data_list='test_pairs.txt', datamode='test', dataroot='data', display_count=1, fine_height=256, fine_width=192, gpu_ids='', grid_size=5, name='gmm', radius=5, result_dir='result', shuffle=False, stage='GMM', tensorboard_dir='tensorboard', workers=1)\n",
      "Start to test stage: GMM, named: gmm!\n",
      "initialization method [normal]\n",
      "initialization method [normal]\n"
     ]
    },
    {
     "name": "stderr",
     "output_type": "stream",
     "text": [
      "Traceback (most recent call last):\n",
      "  File \"test.py\", line 162, in <module>\n",
      "    main()\n",
      "  File \"test.py\", line 147, in main\n",
      "    model = GMM(opt)\n",
      "  File \"C:\\Users\\user\\Documents\\GitHub\\PJ_01\\step\\model.py\", line 298, in __init__\n",
      "    self.regression = FeatureRegression(input_nc=192, output_dim=2*opt.grid_size**2, use_cuda=True)\n",
      "  File \"C:\\Users\\user\\Documents\\GitHub\\PJ_01\\step\\model.py\", line 124, in __init__\n",
      "    self.conv.cuda()\n",
      "  File \"C:\\Users\\user\\anaconda3\\lib\\site-packages\\torch\\nn\\modules\\module.py\", line 688, in cuda\n",
      "    return self._apply(lambda t: t.cuda(device))\n",
      "  File \"C:\\Users\\user\\anaconda3\\lib\\site-packages\\torch\\nn\\modules\\module.py\", line 578, in _apply\n",
      "    module._apply(fn)\n",
      "  File \"C:\\Users\\user\\anaconda3\\lib\\site-packages\\torch\\nn\\modules\\module.py\", line 601, in _apply\n",
      "    param_applied = fn(param)\n",
      "  File \"C:\\Users\\user\\anaconda3\\lib\\site-packages\\torch\\nn\\modules\\module.py\", line 688, in <lambda>\n",
      "    return self._apply(lambda t: t.cuda(device))\n",
      "  File \"C:\\Users\\user\\anaconda3\\lib\\site-packages\\torch\\cuda\\__init__.py\", line 210, in _lazy_init\n",
      "    raise AssertionError(\"Torch not compiled with CUDA enabled\")\n",
      "AssertionError: Torch not compiled with CUDA enabled\n"
     ]
    }
   ],
   "source": [
    "! python test.py --name gmm --stage GMM --workers 1 --datamode test --data_list test_pairs.txt --checkpoint checkpoints/gmm_final.pth"
   ]
  },
  {
   "cell_type": "code",
   "execution_count": null,
   "metadata": {},
   "outputs": [],
   "source": [
    "! python test.py --name tom --stage TOM --workers 4 --datamode test --data_list test_pairs.txt --checkpoint checkpoints/tom_final.pth"
   ]
  },
  {
   "cell_type": "code",
   "execution_count": 1,
   "metadata": {},
   "outputs": [],
   "source": [
    "# !pip install tensorboardX\n",
    "# !pip install opencv-python\n",
    "# !pip install git+https://github.com/sedthh/pyxelate.git\n",
    "# from skimage import io\n"
   ]
  },
  {
   "cell_type": "markdown",
   "metadata": {},
   "source": [
    "# [main] RUN"
   ]
  },
  {
   "cell_type": "code",
   "execution_count": 2,
   "metadata": {},
   "outputs": [
    {
     "name": "stdout",
     "output_type": "stream",
     "text": [
      "\n",
      "** PIPELINE 1 (mode = live) ___________________________________________________________________________________________\n",
      "\n",
      "   [STEP : Pixelate, METHOD : 1, VERSION : 0.0]  : https://github.com/sedthh/pyxelate.git의 pyxelate를 사용한 방법\n",
      "   \n",
      "      |-> log :\n",
      "      |\n",
      "\n",
      "\n",
      "\n",
      "** PIPELINE 2 (mode = live) ___________________________________________________________________________________________\n",
      "\n",
      "   [STEP : Segmentation, METHOD : 1, VERSION : 0.0]  : cv2를 활용한 방법\n",
      "   \n",
      "      |-> log :\n",
      "      |\n",
      "\n",
      "\n"
     ]
    }
   ],
   "source": [
    "%run model.py"
   ]
  },
  {
   "cell_type": "code",
   "execution_count": null,
   "metadata": {},
   "outputs": [],
   "source": []
  }
 ],
 "metadata": {
  "kernelspec": {
   "display_name": "Python 3",
   "language": "python",
   "name": "python3"
  },
  "language_info": {
   "codemirror_mode": {
    "name": "ipython",
    "version": 3
   },
   "file_extension": ".py",
   "mimetype": "text/x-python",
   "name": "python",
   "nbconvert_exporter": "python",
   "pygments_lexer": "ipython3",
   "version": "3.8.3"
  }
 },
 "nbformat": 4,
 "nbformat_minor": 5
}
