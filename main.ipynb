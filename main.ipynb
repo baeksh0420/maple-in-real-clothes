{
 "cells": [
  {
   "cell_type": "markdown",
   "metadata": {},
   "source": [
    "## main\n",
    "\n",
    "할거\n",
    "- [ ] pixelate argument 통일\n",
    "- [ ] 공통 함수?? - all / plot??\n",
    "- [ ] cp-vton 돌아가게하기\n",
    "- [ ] ssh 권한\n",
    "- [ ] git-clone\n",
    "- [ ] segmentation 개선 - pixelate의 outline 안 밖을 0,255로 하면 되는 거 아닐까?\n"
   ]
  },
  {
   "cell_type": "markdown",
   "metadata": {},
   "source": [
    "있어야할 것들\n",
    "- method들\n",
    "- plot\n",
    "- all\n",
    "- "
   ]
  },
  {
   "cell_type": "code",
   "execution_count": 1,
   "metadata": {},
   "outputs": [
    {
     "name": "stdout",
     "output_type": "stream",
     "text": [
      "\n",
      "** PIPELINE 1 (mode = test) ___________________________________________________________________________________________\n",
      "\n",
      "   [STEP : Pixelate, METHOD : 1, VERSION : 0.0]  : https://github.com/sedthh/pyxelate.git의 pyxelate를 사용한 방법\n",
      "   \n",
      "      |-> log :\n",
      "      |\n",
      "\n",
      "\n",
      "\n",
      "** PIPELINE 2 (mode = test) ___________________________________________________________________________________________\n",
      "\n",
      "   [STEP : Segmentation, METHOD : 1, VERSION : 0.0]  : cv2를 활용한 방법\n",
      "   \n",
      "      |-> log :\n",
      "      |\n",
      "      |     test mode, no write\n",
      "\n",
      "\n",
      "\n",
      "** PIPELINE 3 (mode = test) ___________________________________________________________________________________________\n",
      "\n",
      "   [STEP : Keypoint, METHOD : 1, VERSION : 0.0]  : ~~ 에서 제공하는 툴을 사용한 수동 감지법\n",
      "   \n",
      "      |-> log :\n",
      "      |\n",
      "\n",
      "\n",
      "\n",
      "** PIPELINE 4 (mode = test) ___________________________________________________________________________________________\n",
      "\n",
      "   [STEP : Tryon, METHOD : 1, VERSION : 0.0]  : cp-vton논문의 pretrained checkpoint 사용한 방법\n",
      "   \n",
      "      |-> log :\n",
      "      |\n",
      "\n",
      "\n"
     ]
    }
   ],
   "source": [
    "%run model.py"
   ]
  },
  {
   "cell_type": "code",
   "execution_count": null,
   "metadata": {},
   "outputs": [
    {
     "name": "stdout",
     "output_type": "stream",
     "text": [
      "- Pixelate (method 1) : ~~ 에서 제공하는 툴을 사용한 수동 감지법\n",
      "- [STEP : Segmentation, METHOD : 1, VERSION : 0.0]  : cv2를 활용한 방법\n",
      "\n"
     ]
    }
   ],
   "source": [
    "from step.pixelate import *\n",
    "from step.segmentation import *\n",
    "from step.keypoint import *\n",
    "from step.model import *\n",
    "    \n",
    "pipeline_pixelate     = {\"method\": Pixelate.method1\n",
    "                        ,\"load_dir\": \"./data/test/cloth-raw/\"\n",
    "                        ,\"save_dir\": \"./data/test/cloth/\"\n",
    "                        ,\"mode\": \"all\"}\n",
    "\n",
    "pipeline_segmentation = {\"method\": Segmentation.method1\n",
    "                        ,\"load_dir\": \"./data/test/cloth/\"\n",
    "                        ,\"save_dir\": \"./data/test/cloth-mask/\"\n",
    "                        ,\"mode\": \"show\"}\n",
    "\n",
    "# 이거 path 찾아라\n",
    "pipeline_keypoint     = {\"method\": Keypoint.method1\n",
    "                        ,\"load_dir\": \"a\"\n",
    "                        ,\"save_dir\": \"b\"\n",
    "                        ,\"mode\": \"all\"}\n",
    "\n",
    "pipeline_tryon        = {\"method\": Tryon.method1\n",
    "                         ,\"load_dir\": \"a\"\n",
    "                         ,\"save_dir\": \"b\"\n",
    "                         ,\"mode\": \"all\"}\n",
    "\n",
    "\n",
    "pipeline = {\"pixelate\": pipeline_pixelate\n",
    "           ,\"segmentation\": pipeline_segmentation\n",
    "           ,\"keypoint\": pipeline_keypoint\n",
    "           ,\"tryon\": pipeline_tryon}\n",
    "\n",
    "\n",
    "def active_pipeline(step,pipeline):\n",
    "    kwargs = pipeline[step].copy()\n",
    "    kwargs.pop(\"method\")\n",
    "    return pipeline[step]['method'](**kwargs)\n",
    "\n",
    "def fit(pipeline,mode=None):\n",
    "    for step in list(pipeline.keys()):\n",
    "        active_pipeline(step,pipeline)\n",
    "fit(pipeline)    "
   ]
  }
 ],
 "metadata": {
  "kernelspec": {
   "display_name": "Python 3",
   "language": "python",
   "name": "python3"
  },
  "language_info": {
   "codemirror_mode": {
    "name": "ipython",
    "version": 3
   },
   "file_extension": ".py",
   "mimetype": "text/x-python",
   "name": "python",
   "nbconvert_exporter": "python",
   "pygments_lexer": "ipython3",
   "version": "3.8.3"
  }
 },
 "nbformat": 4,
 "nbformat_minor": 5
}
