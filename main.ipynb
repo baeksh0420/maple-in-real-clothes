{
 "cells": [
  {
   "cell_type": "markdown",
   "metadata": {},
   "source": [
    "## main\n",
    "\n",
    "할거\n",
    "\n",
    "- [x] segmentation load, write 빼기\n",
    "- [x] pixelate argument 통일\n",
    "- [x] 공통 함수?? - all -> fit \n",
    "- [ ] ssh 권한\n",
    "- [ ] git-clone\n",
    "- [ ] segmentation 개선 - pixelate의 outline 안 밖을 0,255로 하면 되는 거 아닐까?\n",
    "- [ ] requirements \n",
    "- [ ] cp-vton 돌아가게하기\n",
    "\n",
    "함께 to do\n",
    "- [ ] 공통 함수?? - plot??-- 형식 맞춰서 작성 필요"
   ]
  },
  {
   "cell_type": "markdown",
   "metadata": {},
   "source": [
    "있어야할 것들\n",
    "- method들\n",
    "- plot\n",
    "- all\n",
    "- "
   ]
  },
  {
   "cell_type": "code",
   "execution_count": 1,
   "metadata": {},
   "outputs": [],
   "source": [
    "# !pip install tensorboardX\n",
    "# !pip install opencv-python\n",
    "# !pip install git+https://github.com/sedthh/pyxelate.git\n",
    "# from skimage import io\n"
   ]
  },
  {
   "cell_type": "code",
   "execution_count": 1,
   "metadata": {},
   "outputs": [
    {
     "name": "stdout",
     "output_type": "stream",
     "text": [
      "\n",
      "** PIPELINE 1 (mode = live) ___________________________________________________________________________________________\n",
      "\n",
      "   [STEP : Pixelate, METHOD : 1, VERSION : 0.0]  : https://github.com/sedthh/pyxelate.git의 pyxelate를 사용한 방법\n",
      "   \n",
      "      |-> log :\n",
      "      |\n"
     ]
    },
    {
     "name": "stderr",
     "output_type": "stream",
     "text": [
      "C:\\Users\\user\\anaconda3\\lib\\site-packages\\pyxelate\\pyx.py:203: Warning: Some colors are redundant, try a different palette size for better results!\n",
      "  warnings.warn(\"Some colors are redundant, try a different palette size for better results!\", Warning)\n",
      "C:\\Users\\user\\anaconda3\\lib\\site-packages\\pyxelate\\pyx.py:203: Warning: Some colors are redundant, try a different palette size for better results!\n",
      "  warnings.warn(\"Some colors are redundant, try a different palette size for better results!\", Warning)\n",
      "C:\\Users\\user\\anaconda3\\lib\\site-packages\\pyxelate\\pyx.py:203: Warning: Some colors are redundant, try a different palette size for better results!\n",
      "  warnings.warn(\"Some colors are redundant, try a different palette size for better results!\", Warning)\n",
      "C:\\Users\\user\\anaconda3\\lib\\site-packages\\pyxelate\\pyx.py:203: Warning: Some colors are redundant, try a different palette size for better results!\n",
      "  warnings.warn(\"Some colors are redundant, try a different palette size for better results!\", Warning)\n",
      "C:\\Users\\user\\anaconda3\\lib\\site-packages\\pyxelate\\pyx.py:84: Warning: Pyxelate could not properly assign colors, try a different palette size for better results!\n",
      "  warnings.warn(\"Pyxelate could not properly assign colors, try a different palette size for better results!\", Warning)\n",
      "C:\\Users\\user\\anaconda3\\lib\\site-packages\\pyxelate\\pyx.py:203: Warning: Some colors are redundant, try a different palette size for better results!\n",
      "  warnings.warn(\"Some colors are redundant, try a different palette size for better results!\", Warning)\n"
     ]
    },
    {
     "name": "stdout",
     "output_type": "stream",
     "text": [
      "\n",
      "\n",
      "\n",
      "** PIPELINE 2 (mode = live) ___________________________________________________________________________________________\n",
      "\n",
      "   [STEP : Segmentation, METHOD : 1, VERSION : 0.0]  : cv2를 활용한 방법\n",
      "   \n",
      "      |-> log :\n",
      "      |\n",
      "\n",
      "\n"
     ]
    }
   ],
   "source": [
    "%run model.py"
   ]
  },
  {
   "cell_type": "code",
   "execution_count": null,
   "metadata": {},
   "outputs": [],
   "source": []
  }
 ],
 "metadata": {
  "kernelspec": {
   "display_name": "Python 3",
   "language": "python",
   "name": "python3"
  },
  "language_info": {
   "codemirror_mode": {
    "name": "ipython",
    "version": 3
   },
   "file_extension": ".py",
   "mimetype": "text/x-python",
   "name": "python",
   "nbconvert_exporter": "python",
   "pygments_lexer": "ipython3",
   "version": "3.8.3"
  }
 },
 "nbformat": 4,
 "nbformat_minor": 5
}
