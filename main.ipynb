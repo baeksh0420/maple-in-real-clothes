{
 "cells": [
  {
   "cell_type": "markdown",
   "metadata": {},
   "source": [
    "## main\n",
    "\n",
    "할거\n",
    "\n",
    "- [x] segmentation load, write 빼기\n",
    "- [x] pixelate argument 통일\n",
    "- [x] 공통 함수?? - all -> fit \n",
    "- [x] ssh 권한 \n",
    "\n",
    "이번주 \n",
    "- [ ] cp-vton 돌아가게하기\n",
    "- [ ] preprocess 정책 생각하기\n",
    "\n",
    "다음주\n",
    "- [ ] segmentation 개선 - pixelate의 outline 안 밖을 0,255로 하면 되는 거 아닐까?\n",
    "\n",
    "함께 to do\n",
    "- [ ] 공통 함수?? - plot??-- 형식 맞춰서 작성 필요\n",
    "- [ ] git-clone - https://ndb796.tistory.com/562\n",
    "\n",
    "나중에\n",
    "- [ ] requirements \n"
   ]
  },
  {
   "cell_type": "markdown",
   "metadata": {},
   "source": [
    "있어야할 것들\n",
    "- method들\n",
    "- plot\n",
    "- all\n",
    "- "
   ]
  },
  {
   "cell_type": "markdown",
   "metadata": {},
   "source": [
    "### [temp] cpvton test.py\n",
    "- test_pairs.txt\n",
    "    - image : _0.jpg    ex) 000001_0.jpg\n",
    "    - cloth : _1.jpg    ex) 004325_1.jpg\n",
    "- filename_end rule\n",
    "    - ` _0.jpg ` : **image, image-parse, pose**  \n",
    "    - ` _1.jpg ` : **cloth, cloth-mask, warp-cloth, warp-mask**\n",
    "    "
   ]
  },
  {
   "cell_type": "markdown",
   "metadata": {},
   "source": [
    "### [temp] cpvton test.py - main"
   ]
  },
  {
   "cell_type": "code",
   "execution_count": 1,
   "metadata": {},
   "outputs": [
    {
     "name": "stdout",
     "output_type": "stream",
     "text": [
      "Namespace(batch_size=4, checkpoint='checkpoints/gmm_final.pth', data_list='test_pairs.txt', datamode='test', dataroot='data', display_count=1, fine_height=256, fine_width=192, gpu_ids='', grid_size=5, name='gmm', radius=5, result_dir='result', shuffle=False, stage='GMM', tensorboard_dir='tensorboard', workers=1)\n",
      "Start to test stage: GMM, named: gmm!\n",
      "initialization method [normal]\n",
      "initialization method [normal]\n"
     ]
    },
    {
     "name": "stderr",
     "output_type": "stream",
     "text": [
      "Traceback (most recent call last):\n",
      "  File \"test.py\", line 162, in <module>\n",
      "    main()\n",
      "  File \"test.py\", line 147, in main\n",
      "    model = GMM(opt)\n",
      "  File \"C:\\Users\\user\\Documents\\GitHub\\PJ_01\\step\\model.py\", line 298, in __init__\n",
      "    self.regression = FeatureRegression(input_nc=192, output_dim=2*opt.grid_size**2, use_cuda=True)\n",
      "  File \"C:\\Users\\user\\Documents\\GitHub\\PJ_01\\step\\model.py\", line 124, in __init__\n",
      "    self.conv.cuda()\n",
      "  File \"C:\\Users\\user\\anaconda3\\lib\\site-packages\\torch\\nn\\modules\\module.py\", line 688, in cuda\n",
      "    return self._apply(lambda t: t.cuda(device))\n",
      "  File \"C:\\Users\\user\\anaconda3\\lib\\site-packages\\torch\\nn\\modules\\module.py\", line 578, in _apply\n",
      "    module._apply(fn)\n",
      "  File \"C:\\Users\\user\\anaconda3\\lib\\site-packages\\torch\\nn\\modules\\module.py\", line 601, in _apply\n",
      "    param_applied = fn(param)\n",
      "  File \"C:\\Users\\user\\anaconda3\\lib\\site-packages\\torch\\nn\\modules\\module.py\", line 688, in <lambda>\n",
      "    return self._apply(lambda t: t.cuda(device))\n",
      "  File \"C:\\Users\\user\\anaconda3\\lib\\site-packages\\torch\\cuda\\__init__.py\", line 210, in _lazy_init\n",
      "    raise AssertionError(\"Torch not compiled with CUDA enabled\")\n",
      "AssertionError: Torch not compiled with CUDA enabled\n"
     ]
    }
   ],
   "source": [
    "! python test.py --name gmm --stage GMM --workers 1 --datamode test --data_list test_pairs.txt --checkpoint checkpoints/gmm_final.pth"
   ]
  },
  {
   "cell_type": "code",
   "execution_count": null,
   "metadata": {},
   "outputs": [],
   "source": [
    "! python test.py --name tom --stage TOM --workers 4 --datamode test --data_list test_pairs.txt --checkpoint checkpoints/tom_final.pth"
   ]
  },
  {
   "cell_type": "code",
   "execution_count": 1,
   "metadata": {},
   "outputs": [],
   "source": [
    "# !pip install tensorboardX\n",
    "# !pip install opencv-python\n",
    "# !pip install git+https://github.com/sedthh/pyxelate.git\n",
    "# from skimage import io\n"
   ]
  },
  {
   "cell_type": "markdown",
   "metadata": {},
   "source": [
    "# [main] RUN"
   ]
  },
  {
   "cell_type": "code",
   "execution_count": 1,
   "metadata": {},
   "outputs": [],
   "source": [
    "%run model.py"
   ]
  },
  {
   "cell_type": "code",
   "execution_count": null,
   "metadata": {},
   "outputs": [],
   "source": []
  }
 ],
 "metadata": {
  "kernelspec": {
   "display_name": "Python 3",
   "language": "python",
   "name": "python3"
  },
  "language_info": {
   "codemirror_mode": {
    "name": "ipython",
    "version": 3
   },
   "file_extension": ".py",
   "mimetype": "text/x-python",
   "name": "python",
   "nbconvert_exporter": "python",
   "pygments_lexer": "ipython3",
   "version": "3.8.3"
  }
 },
 "nbformat": 4,
 "nbformat_minor": 5
}
