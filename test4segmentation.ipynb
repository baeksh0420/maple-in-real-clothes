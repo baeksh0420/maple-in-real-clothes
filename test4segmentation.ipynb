{
 "cells": [
  {
   "cell_type": "markdown",
   "metadata": {},
   "source": [
    "### segmentation \n",
    "- 경계선 안에 무늬 들이 검정색됨\n",
    "- 경계선 잡고 그 안을 그냥 바꿔줘야함"
   ]
  },
  {
   "cell_type": "markdown",
   "metadata": {},
   "source": [
    "### method2\n"
   ]
  },
  {
   "cell_type": "code",
   "execution_count": 1,
   "metadata": {},
   "outputs": [
    {
     "ename": "SyntaxError",
     "evalue": "cannot assign to function call (segmentation.py, line 121)",
     "output_type": "error",
     "traceback": [
      "Traceback \u001b[1;36m(most recent call last)\u001b[0m:\n",
      "  File \u001b[0;32m\"C:\\Users\\shyun46\\anaconda3\\lib\\site-packages\\IPython\\core\\interactiveshell.py\"\u001b[0m, line \u001b[0;32m3343\u001b[0m, in \u001b[0;35mrun_code\u001b[0m\n    exec(code_obj, self.user_global_ns, self.user_ns)\n",
      "\u001b[1;36m  File \u001b[1;32m\"<ipython-input-1-3875848f3121>\"\u001b[1;36m, line \u001b[1;32m10\u001b[1;36m, in \u001b[1;35m<module>\u001b[1;36m\u001b[0m\n\u001b[1;33m    from step.segmentation import *\u001b[0m\n",
      "\u001b[1;36m  File \u001b[1;32m\"C:\\Users\\shyun46\\Documents\\GitHub\\PJ_01\\step\\segmentation.py\"\u001b[1;36m, line \u001b[1;32m121\u001b[0m\n\u001b[1;33m    faceSeed(2) = faceSeed(2)+40;\u001b[0m\n\u001b[1;37m    ^\u001b[0m\n\u001b[1;31mSyntaxError\u001b[0m\u001b[1;31m:\u001b[0m cannot assign to function call\n"
     ]
    }
   ],
   "source": [
    "## main - cp vton 코드에 있는 test.py의 골자를 따라감\n",
    "\n",
    "import warnings\n",
    "warnings.filterwarnings(\"ignore\")\n",
    "\n",
    "# [A] MODE\n",
    "mode = \"live\"\n",
    "\n",
    "# [B] PIEPLINE - COLAB CODE\n",
    "from step.segmentation import *\n",
    "\n",
    "pipeline_segmentation = {\n",
    "                         \"step\"    : Segmentation\n",
    "                        ,\"method\"  : Segmentation.method2\n",
    "                        ,\"mode\"    : mode\n",
    "                        ,\"load_dir\": \"./data/test/cloth/\"\n",
    "                        ,\"save_dir\": \"./data/test/cloth-mask/\"\n",
    "                        }\n",
    "\n",
    "pipeline = {\"segmentation\": pipeline_segmentation}\n",
    "\n",
    "# [C] FUNCTION FOR FITTING\n",
    "def active_pipeline(step,pipeline):\n",
    "    kwargs = pipeline[step].copy()\n",
    "    kwargs.pop(\"step\")\n",
    "    return pipeline[step]['step'].fit(**kwargs)\n",
    "\n",
    "def fit(pipeline,mode=None):\n",
    "    step_num = 0\n",
    "    \n",
    "    # -- preprocess -> 쌓이면 모듈로 파기, data loader와?\n",
    "    util.make_pairs(mode= \"pair\") # 이거 파일이 없으면 진행하도록 \n",
    "    \n",
    "    # -- main step\n",
    "    for step in list(pipeline.keys()):\n",
    "        step_num += 1\n",
    "        mode      = pipeline[step]['mode']\n",
    "        print(\"\\n** PIPELINE {step_num} (mode = {mode}) ___________________________________________________________________________________________\".format(step_num=step_num,mode=mode))\n",
    "        active_pipeline(step,pipeline)\n",
    "        print(\"\\n\")\n",
    "        \n",
    "        \n",
    "        \n",
    "# [D] FOR RUNNING        \n",
    "fit(pipeline)    "
   ]
  },
  {
   "cell_type": "code",
   "execution_count": null,
   "metadata": {},
   "outputs": [],
   "source": []
  }
 ],
 "metadata": {
  "kernelspec": {
   "display_name": "Python 3",
   "language": "python",
   "name": "python3"
  },
  "language_info": {
   "codemirror_mode": {
    "name": "ipython",
    "version": 3
   },
   "file_extension": ".py",
   "mimetype": "text/x-python",
   "name": "python",
   "nbconvert_exporter": "python",
   "pygments_lexer": "ipython3",
   "version": "3.8.3"
  }
 },
 "nbformat": 4,
 "nbformat_minor": 4
}
