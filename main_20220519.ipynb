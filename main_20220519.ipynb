{
  "nbformat": 4,
  "nbformat_minor": 0,
  "metadata": {
    "colab": {
      "name": "main_20220519.ipynb",
      "provenance": [],
      "collapsed_sections": []
    },
    "kernelspec": {
      "name": "python3",
      "display_name": "Python 3"
    },
    "language_info": {
      "name": "python"
    }
  },
  "cells": [
    {
      "cell_type": "markdown",
      "source": [
        "## SSH 키를 이용하여 깃 프로젝트 연동하기\n",
        "- 최초 1번 실행"
      ],
      "metadata": {
        "id": "_XHgFb43_0QY"
      }
    },
    {
      "cell_type": "code",
      "source": [
        "from google.colab import drive\n",
        "drive.mount('/content/drive')"
      ],
      "metadata": {
        "colab": {
          "base_uri": "https://localhost:8080/"
        },
        "id": "TY26c7emjTnc",
        "outputId": "1062177f-4bbf-43db-9d46-b2316fb4ee42"
      },
      "execution_count": 1,
      "outputs": [
        {
          "output_type": "stream",
          "name": "stdout",
          "text": [
            "Mounted at /content/drive\n"
          ]
        }
      ]
    },
    {
      "cell_type": "code",
      "source": [
        "%cd /content/drive/MyDrive/gan/PJ_01_working"
      ],
      "metadata": {
        "colab": {
          "base_uri": "https://localhost:8080/"
        },
        "id": "XhwESnegydBA",
        "outputId": "e703d310-0c64-4d2a-d09f-3606eac3653f"
      },
      "execution_count": 2,
      "outputs": [
        {
          "output_type": "stream",
          "name": "stdout",
          "text": [
            "/content/drive/MyDrive/gan/PJ_01_working\n"
          ]
        }
      ]
    },
    {
      "cell_type": "code",
      "source": [
        "# ssh 키 생성\n",
        "# /root/.ssh/ 폴더에 id_rsa.pub(공개키)와 id_rsa(개인키) 파일이 생성된다.\n",
        "\n",
        "# 중간중간 뜨는건 아무것도 입력하지 않고 엔터를 누르면 된다!\n",
        "\n",
        "!ssh-keygen"
      ],
      "metadata": {
        "colab": {
          "base_uri": "https://localhost:8080/"
        },
        "id": "aNVT85fpVq1K",
        "outputId": "efd5519f-b0c6-4e8e-8d91-fbecdacfc293"
      },
      "execution_count": 4,
      "outputs": [
        {
          "output_type": "stream",
          "name": "stdout",
          "text": [
            "Generating public/private rsa key pair.\n",
            "Enter file in which to save the key (/root/.ssh/id_rsa): \n",
            "Created directory '/root/.ssh'.\n",
            "Enter passphrase (empty for no passphrase): \n",
            "Enter same passphrase again: \n",
            "Your identification has been saved in /root/.ssh/id_rsa.\n",
            "Your public key has been saved in /root/.ssh/id_rsa.pub.\n",
            "The key fingerprint is:\n",
            "SHA256:02fdrU1xEUAKnpeVP84DaiuUjUiYqQKFsKAALBvNz1A root@f89c57f95313\n",
            "The key's randomart image is:\n",
            "+---[RSA 2048]----+\n",
            "|O+ .E    .  .+oo.|\n",
            "|Bo=     . o +.  .|\n",
            "|++ +  +  o +  ...|\n",
            "|o   o+ . ..  o ++|\n",
            "|.   . . S = + = =|\n",
            "| . .   . = *   B |\n",
            "|  .     . . . . o|\n",
            "|         . .     |\n",
            "|          .      |\n",
            "+----[SHA256]-----+\n"
          ]
        }
      ]
    },
    {
      "cell_type": "code",
      "source": [
        "# 공개키를 복사하여 깃허브 ssh에 등록\n",
        "! cat ~/.ssh/id_rsa.pub"
      ],
      "metadata": {
        "colab": {
          "base_uri": "https://localhost:8080/"
        },
        "id": "5Wq7t3kSV3Wf",
        "outputId": "9884dbe6-1cf2-417a-ac6c-879b5cde7486"
      },
      "execution_count": 5,
      "outputs": [
        {
          "output_type": "stream",
          "name": "stdout",
          "text": [
            "ssh-rsa AAAAB3NzaC1yc2EAAAADAQABAAABAQCsE6wkclMDafNLZCgRioadotKYZrMks+uBcd5qChcomZPit9zrGk24nirH0AtITx6ysQSSId4r7q7akqah62N2flFuTjgFCVKCAHUBiSz6RxM43AfbkKxWjr2s5LAMi1p302xps7SDt2kBxKIQPi5kyeR2Np3r6OiVSj/RdMG1s+musTXDXyxdeHUEb6aBPAmlhr0NAn18m8d1XtMpNYrLwbUk3RQhThqK0QMWMTxbVQix4GONuHdWJLAqvRN+z7M+6v6UHWjujQrOv9x2ZHmCnvPIa1Ng0tpkOYFJzzOLo1U8UhMz0XJK0lF5/1+s0TK805UJwZ+AWcD0IS3EOvZL root@f89c57f95313\n"
          ]
        }
      ]
    },
    {
      "cell_type": "code",
      "source": [
        "# 알려진 호스트(known hosts)에 GitHub 호스트 주소 넣기 \n",
        "!ssh-keyscan -t rsa github.com >> ~/.ssh/known_hosts "
      ],
      "metadata": {
        "colab": {
          "base_uri": "https://localhost:8080/"
        },
        "id": "l3RnWt_X_F2y",
        "outputId": "d9c6c9dd-64d4-476f-8059-50ced3b558dd"
      },
      "execution_count": 6,
      "outputs": [
        {
          "output_type": "stream",
          "name": "stdout",
          "text": [
            "# github.com:22 SSH-2.0-babeld-406cafbd\n"
          ]
        }
      ]
    },
    {
      "cell_type": "code",
      "source": [
        "# 깃 저장소를 클론할 폴더로 이동\n",
        "%cd /content/drive/MyDrive/gan/PJ_01_working"
      ],
      "metadata": {
        "colab": {
          "base_uri": "https://localhost:8080/"
        },
        "id": "tlGVcST8Wqoe",
        "outputId": "85b42012-ed71-402e-8d31-6b3c613342a9"
      },
      "execution_count": 7,
      "outputs": [
        {
          "output_type": "stream",
          "name": "stdout",
          "text": [
            "/content/drive/MyDrive/gan/PJ_01_working\n"
          ]
        }
      ]
    },
    {
      "cell_type": "code",
      "source": [
        "# private repository를 클론\n",
        "!git clone git@github.com:shyun46/PJ_01.git"
      ],
      "metadata": {
        "colab": {
          "base_uri": "https://localhost:8080/"
        },
        "id": "JLYuWjgU-4tb",
        "outputId": "d01028be-2d44-4a4d-f93b-da9cb89f6ff3"
      },
      "execution_count": 9,
      "outputs": [
        {
          "output_type": "stream",
          "name": "stdout",
          "text": [
            "Cloning into 'PJ_01'...\n",
            "Warning: Permanently added the RSA host key for IP address '140.82.113.3' to the list of known hosts.\n",
            "remote: Enumerating objects: 569, done.\u001b[K\n",
            "remote: Counting objects: 100% (404/404), done.\u001b[K\n",
            "remote: Compressing objects: 100% (328/328), done.\u001b[K\n",
            "remote: Total 569 (delta 128), reused 336 (delta 66), pack-reused 165\u001b[K\n",
            "Receiving objects: 100% (569/569), 171.74 MiB | 11.20 MiB/s, done.\n",
            "Resolving deltas: 100% (158/158), done.\n",
            "Checking out files: 100% (165/165), done.\n"
          ]
        }
      ]
    },
    {
      "cell_type": "code",
      "source": [
        "# !git init\n",
        "%cd /content/drive/MyDrive/gan/PJ_01_working/PJ_01"
      ],
      "metadata": {
        "colab": {
          "base_uri": "https://localhost:8080/"
        },
        "id": "yeUKBatvoE2V",
        "outputId": "56752cca-cea1-4786-8410-ed6f50821573"
      },
      "execution_count": 14,
      "outputs": [
        {
          "output_type": "stream",
          "name": "stdout",
          "text": [
            "/content/drive/MyDrive/gan/PJ_01_working/PJ_01\n"
          ]
        }
      ]
    },
    {
      "cell_type": "code",
      "source": [
        "# 본인 브랜치 생성\n",
        "! git branch feature/olive46"
      ],
      "metadata": {
        "id": "hPDuiZhYAchW"
      },
      "execution_count": 15,
      "outputs": []
    },
    {
      "cell_type": "code",
      "source": [
        "# 생성한 브랜치 push\n",
        "! git push --set-upstream origin feature/olive46"
      ],
      "metadata": {
        "id": "0upgO-9_Ae2d",
        "colab": {
          "base_uri": "https://localhost:8080/"
        },
        "outputId": "8398d980-a8dc-4c5b-cec7-b1350501e128"
      },
      "execution_count": 17,
      "outputs": [
        {
          "output_type": "stream",
          "name": "stdout",
          "text": [
            "Warning: Permanently added the RSA host key for IP address '140.82.112.4' to the list of known hosts.\r\n",
            "Total 0 (delta 0), reused 0 (delta 0)\n",
            "remote: \n",
            "remote: Create a pull request for 'feature/olive46' on GitHub by visiting:\u001b[K\n",
            "remote:      https://github.com/shyun46/PJ_01/pull/new/feature/olive46\u001b[K\n",
            "remote: \n",
            "To github.com:shyun46/PJ_01.git\n",
            " * [new branch]      feature/olive46 -> feature/olive46\n",
            "Branch 'feature/olive46' set up to track remote branch 'feature/olive46' from 'origin'.\n"
          ]
        }
      ]
    },
    {
      "cell_type": "markdown",
      "source": [
        "## 프로젝트에 PUSH 하기\n",
        "- 파일 변경 시 항상 실행"
      ],
      "metadata": {
        "id": "l3oJZqpUABbM"
      }
    },
    {
      "cell_type": "code",
      "source": [
        "# 1. 깃 프로젝트가 담긴 폴더로 이동\n",
        "%cd /content/drive/MyDrive/gan/PJ_01_working/PJ_01"
      ],
      "metadata": {
        "colab": {
          "base_uri": "https://localhost:8080/"
        },
        "id": "zWCTGgIHmo_R",
        "outputId": "4bac2c3c-e7ff-4545-fd63-fc319016e825"
      },
      "execution_count": 18,
      "outputs": [
        {
          "output_type": "stream",
          "name": "stdout",
          "text": [
            "/content/drive/MyDrive/gan/PJ_01_working/PJ_01\n"
          ]
        }
      ]
    },
    {
      "cell_type": "code",
      "source": [
        "# 2. 알려진 호스트(known hosts)에 GitHub 호스트 주소 넣기 (매번 해주는게 맞나?)\n",
        "!ssh-keyscan -t rsa github.com >> ~/.ssh/known_hosts "
      ],
      "metadata": {
        "colab": {
          "base_uri": "https://localhost:8080/"
        },
        "id": "mlHeVkqUskWV",
        "outputId": "36f544c8-b09e-404c-f3ba-ff0028be5f61"
      },
      "execution_count": 19,
      "outputs": [
        {
          "output_type": "stream",
          "name": "stdout",
          "text": [
            "# github.com:22 SSH-2.0-babeld-406cafbd\n"
          ]
        }
      ]
    },
    {
      "cell_type": "code",
      "source": [
        "# 3. 계정정보 입력\n",
        "! git config --global user.email \"olive46@gmail.com\"\n",
        "! git config --global user.name \"olive46\""
      ],
      "metadata": {
        "id": "AeH63xXjnfpv"
      },
      "execution_count": 20,
      "outputs": []
    },
    {
      "cell_type": "code",
      "source": [
        "# 4. 본인 브랜치로 이동\n",
        "! git checkout feature/olive46\n",
        "! git branch"
      ],
      "metadata": {
        "colab": {
          "base_uri": "https://localhost:8080/"
        },
        "id": "R7HoyNrA-9c9",
        "outputId": "67788359-020a-4d0d-8b95-4cb3f5056332"
      },
      "execution_count": 21,
      "outputs": [
        {
          "output_type": "stream",
          "name": "stdout",
          "text": [
            "Switched to branch 'feature/olive46'\n",
            "Your branch is up to date with 'origin/feature/olive46'.\n",
            "* \u001b[32mfeature/olive46\u001b[m\n",
            "  main\u001b[m\n"
          ]
        }
      ]
    },
    {
      "cell_type": "code",
      "source": [
        "# 5. 파일 변경 후 PUSH\n",
        "f = open('test.txt', 'w')\n",
        "\n",
        "f.write(\"TEST\")\n",
        "\n",
        "f.close()"
      ],
      "metadata": {
        "id": "1yJRUC7J_aoK"
      },
      "execution_count": 22,
      "outputs": []
    },
    {
      "cell_type": "code",
      "source": [
        "! git add test.txt"
      ],
      "metadata": {
        "id": "dyH4xAAW_Rfl"
      },
      "execution_count": 23,
      "outputs": []
    },
    {
      "cell_type": "code",
      "source": [
        "! git commit -m \"olive46_test\""
      ],
      "metadata": {
        "colab": {
          "base_uri": "https://localhost:8080/"
        },
        "id": "nrWlvHXq_W2x",
        "outputId": "28f419de-5e8b-4073-d372-384a1fb2588d"
      },
      "execution_count": 24,
      "outputs": [
        {
          "output_type": "stream",
          "name": "stdout",
          "text": [
            "[feature/olive46 bb1b616] olive46_test\n",
            " 1 file changed, 1 insertion(+)\n",
            " create mode 100644 test.txt\n"
          ]
        }
      ]
    },
    {
      "cell_type": "code",
      "source": [
        "! git push"
      ],
      "metadata": {
        "colab": {
          "base_uri": "https://localhost:8080/"
        },
        "id": "z8fAqY5g_ha1",
        "outputId": "51ebf750-f5eb-4f42-bae5-411783cbff60"
      },
      "execution_count": 25,
      "outputs": [
        {
          "output_type": "stream",
          "name": "stdout",
          "text": [
            "Counting objects: 3, done.\n",
            "Delta compression using up to 2 threads.\n",
            "Compressing objects:  50% (1/2)   \rCompressing objects: 100% (2/2)   \rCompressing objects: 100% (2/2), done.\n",
            "Writing objects:  33% (1/3)   \rWriting objects:  66% (2/3)   \rWriting objects: 100% (3/3)   \rWriting objects: 100% (3/3), 264 bytes | 88.00 KiB/s, done.\n",
            "Total 3 (delta 1), reused 1 (delta 0)\n",
            "remote: Resolving deltas:   0% (0/1)\u001b[K\rremote: Resolving deltas: 100% (1/1)\u001b[K\rremote: Resolving deltas: 100% (1/1), completed with 1 local object.\u001b[K\n",
            "To github.com:shyun46/PJ_01.git\n",
            "   262be0f..bb1b616  feature/olive46 -> feature/olive46\n"
          ]
        }
      ]
    },
    {
      "cell_type": "markdown",
      "source": [
        "## 프로젝트에 작업하기 (model.py 실행)\n"
      ],
      "metadata": {
        "id": "QE_kEfg7o_Ub"
      }
    },
    {
      "cell_type": "code",
      "source": [
        "!pip install tensorboardX\n",
        "!pip install git+https://github.com/sedthh/pyxelate.git"
      ],
      "metadata": {
        "id": "IAyL306G_kXC",
        "colab": {
          "base_uri": "https://localhost:8080/"
        },
        "outputId": "a02fe329-3512-4b5e-ffd5-354e5b26c860"
      },
      "execution_count": 26,
      "outputs": [
        {
          "output_type": "stream",
          "name": "stdout",
          "text": [
            "Collecting tensorboardX\n",
            "  Downloading tensorboardX-2.5-py2.py3-none-any.whl (125 kB)\n",
            "\u001b[?25l\r\u001b[K     |██▋                             | 10 kB 21.8 MB/s eta 0:00:01\r\u001b[K     |█████▎                          | 20 kB 26.2 MB/s eta 0:00:01\r\u001b[K     |███████▉                        | 30 kB 17.9 MB/s eta 0:00:01\r\u001b[K     |██████████▌                     | 40 kB 15.2 MB/s eta 0:00:01\r\u001b[K     |█████████████                   | 51 kB 7.5 MB/s eta 0:00:01\r\u001b[K     |███████████████▊                | 61 kB 8.8 MB/s eta 0:00:01\r\u001b[K     |██████████████████▎             | 71 kB 8.7 MB/s eta 0:00:01\r\u001b[K     |█████████████████████           | 81 kB 8.7 MB/s eta 0:00:01\r\u001b[K     |███████████████████████▌        | 92 kB 9.6 MB/s eta 0:00:01\r\u001b[K     |██████████████████████████▏     | 102 kB 8.2 MB/s eta 0:00:01\r\u001b[K     |████████████████████████████▊   | 112 kB 8.2 MB/s eta 0:00:01\r\u001b[K     |███████████████████████████████▍| 122 kB 8.2 MB/s eta 0:00:01\r\u001b[K     |████████████████████████████████| 125 kB 8.2 MB/s \n",
            "\u001b[?25hRequirement already satisfied: six in /usr/local/lib/python3.7/dist-packages (from tensorboardX) (1.15.0)\n",
            "Requirement already satisfied: numpy in /usr/local/lib/python3.7/dist-packages (from tensorboardX) (1.21.6)\n",
            "Requirement already satisfied: protobuf>=3.8.0 in /usr/local/lib/python3.7/dist-packages (from tensorboardX) (3.17.3)\n",
            "Installing collected packages: tensorboardX\n",
            "Successfully installed tensorboardX-2.5\n",
            "Collecting git+https://github.com/sedthh/pyxelate.git\n",
            "  Cloning https://github.com/sedthh/pyxelate.git to /tmp/pip-req-build-4rktx9cy\n",
            "  Running command git clone -q https://github.com/sedthh/pyxelate.git /tmp/pip-req-build-4rktx9cy\n",
            "Requirement already satisfied: scikit-learn>=0.24.1 in /usr/local/lib/python3.7/dist-packages (from pyxelate==2.1.1) (1.0.2)\n",
            "Collecting scikit-image>=0.19.1\n",
            "  Downloading scikit_image-0.19.2-cp37-cp37m-manylinux_2_12_x86_64.manylinux2010_x86_64.whl (13.5 MB)\n",
            "\u001b[K     |████████████████████████████████| 13.5 MB 6.4 MB/s \n",
            "\u001b[?25hCollecting numba>=0.53.1\n",
            "  Downloading numba-0.55.1-1-cp37-cp37m-manylinux2014_x86_64.manylinux_2_17_x86_64.whl (3.3 MB)\n",
            "\u001b[K     |████████████████████████████████| 3.3 MB 43.6 MB/s \n",
            "\u001b[?25hCollecting llvmlite<0.39,>=0.38.0rc1\n",
            "  Downloading llvmlite-0.38.0-cp37-cp37m-manylinux_2_17_x86_64.manylinux2014_x86_64.whl (34.5 MB)\n",
            "\u001b[K     |████████████████████████████████| 34.5 MB 15 kB/s \n",
            "\u001b[?25hRequirement already satisfied: setuptools in /usr/local/lib/python3.7/dist-packages (from numba>=0.53.1->pyxelate==2.1.1) (57.4.0)\n",
            "Requirement already satisfied: numpy<1.22,>=1.18 in /usr/local/lib/python3.7/dist-packages (from numba>=0.53.1->pyxelate==2.1.1) (1.21.6)\n",
            "Requirement already satisfied: PyWavelets>=1.1.1 in /usr/local/lib/python3.7/dist-packages (from scikit-image>=0.19.1->pyxelate==2.1.1) (1.3.0)\n",
            "Requirement already satisfied: pillow!=7.1.0,!=7.1.1,!=8.3.0,>=6.1.0 in /usr/local/lib/python3.7/dist-packages (from scikit-image>=0.19.1->pyxelate==2.1.1) (7.1.2)\n",
            "Requirement already satisfied: networkx>=2.2 in /usr/local/lib/python3.7/dist-packages (from scikit-image>=0.19.1->pyxelate==2.1.1) (2.6.3)\n",
            "Requirement already satisfied: imageio>=2.4.1 in /usr/local/lib/python3.7/dist-packages (from scikit-image>=0.19.1->pyxelate==2.1.1) (2.4.1)\n",
            "Requirement already satisfied: tifffile>=2019.7.26 in /usr/local/lib/python3.7/dist-packages (from scikit-image>=0.19.1->pyxelate==2.1.1) (2021.11.2)\n",
            "Requirement already satisfied: scipy>=1.4.1 in /usr/local/lib/python3.7/dist-packages (from scikit-image>=0.19.1->pyxelate==2.1.1) (1.4.1)\n",
            "Requirement already satisfied: packaging>=20.0 in /usr/local/lib/python3.7/dist-packages (from scikit-image>=0.19.1->pyxelate==2.1.1) (21.3)\n",
            "Requirement already satisfied: pyparsing!=3.0.5,>=2.0.2 in /usr/local/lib/python3.7/dist-packages (from packaging>=20.0->scikit-image>=0.19.1->pyxelate==2.1.1) (3.0.9)\n",
            "Requirement already satisfied: threadpoolctl>=2.0.0 in /usr/local/lib/python3.7/dist-packages (from scikit-learn>=0.24.1->pyxelate==2.1.1) (3.1.0)\n",
            "Requirement already satisfied: joblib>=0.11 in /usr/local/lib/python3.7/dist-packages (from scikit-learn>=0.24.1->pyxelate==2.1.1) (1.1.0)\n",
            "Building wheels for collected packages: pyxelate\n",
            "  Building wheel for pyxelate (setup.py) ... \u001b[?25l\u001b[?25hdone\n",
            "  Created wheel for pyxelate: filename=pyxelate-2.1.1-py3-none-any.whl size=14206 sha256=60581ad95340308e70b6d1cf511969b674f19438bc13b2f13fa0e0a810f37f60\n",
            "  Stored in directory: /tmp/pip-ephem-wheel-cache-qq30j1qb/wheels/2e/33/10/b5be4d740bba2dc4d3311bb6c0047214db53a7098bd88051dc\n",
            "Successfully built pyxelate\n",
            "Installing collected packages: llvmlite, scikit-image, numba, pyxelate\n",
            "  Attempting uninstall: llvmlite\n",
            "    Found existing installation: llvmlite 0.34.0\n",
            "    Uninstalling llvmlite-0.34.0:\n",
            "      Successfully uninstalled llvmlite-0.34.0\n",
            "  Attempting uninstall: scikit-image\n",
            "    Found existing installation: scikit-image 0.18.3\n",
            "    Uninstalling scikit-image-0.18.3:\n",
            "      Successfully uninstalled scikit-image-0.18.3\n",
            "  Attempting uninstall: numba\n",
            "    Found existing installation: numba 0.51.2\n",
            "    Uninstalling numba-0.51.2:\n",
            "      Successfully uninstalled numba-0.51.2\n",
            "\u001b[31mERROR: pip's dependency resolver does not currently take into account all the packages that are installed. This behaviour is the source of the following dependency conflicts.\n",
            "albumentations 0.1.12 requires imgaug<0.2.7,>=0.2.5, but you have imgaug 0.2.9 which is incompatible.\u001b[0m\n",
            "Successfully installed llvmlite-0.38.0 numba-0.55.1 pyxelate-2.1.1 scikit-image-0.19.2\n"
          ]
        }
      ]
    },
    {
      "cell_type": "code",
      "source": [
        "%run model.py"
      ],
      "metadata": {
        "colab": {
          "base_uri": "https://localhost:8080/"
        },
        "id": "xFeJY8d_pMLA",
        "outputId": "1c849781-658b-4cf9-e1f5-b9c8a26a25a0"
      },
      "execution_count": 27,
      "outputs": [
        {
          "output_type": "stream",
          "name": "stdout",
          "text": [
            "\n",
            "** PIPELINE 1 (mode = live) ___________________________________________________________________________________________\n",
            "\n",
            "   [STEP : Pixelate, METHOD : 1, VERSION : 0.0]  : https://github.com/sedthh/pyxelate.git의 pyxelate를 사용한 방법\n",
            "   \n",
            "      |-> log :\n",
            "      |\n",
            "\n",
            "\n",
            "\n",
            "** PIPELINE 2 (mode = live) ___________________________________________________________________________________________\n",
            "\n",
            "   [STEP : Segmentation, METHOD : 1, VERSION : 0.0]  : cv2를 활용한 방법\n",
            "   \n",
            "      |-> log :\n",
            "      |\n",
            "\n",
            "\n",
            "\n",
            "** PIPELINE 3 (mode = live) ___________________________________________________________________________________________\n",
            "** RUN COMMAND SCRIPT - python test.py --name gmm --stage GMM --workers 4 --datamode test --data_list test_pairs.txt --checkpoint checkpoints/gmm_final.pth\n",
            "\n",
            "   [STEP : Tryon, METHOD : 1, VERSION : 0.0]  : cp-vton 논문의 pretrained checkpoint 사용한 방법\n",
            "   \n",
            "      |-> log :\n",
            "      |\n",
            "** RUN COMMAND SCRIPT - python test.py --name tom --stage TOM --workers 4 --datamode test --data_list test_pairs.txt --checkpoint checkpoints/tom_final.pth\n",
            "\n",
            "\n"
          ]
        }
      ]
    },
    {
      "cell_type": "code",
      "source": [
        ""
      ],
      "metadata": {
        "id": "ic_Vs6tbpSMp"
      },
      "execution_count": null,
      "outputs": []
    }
  ]
}